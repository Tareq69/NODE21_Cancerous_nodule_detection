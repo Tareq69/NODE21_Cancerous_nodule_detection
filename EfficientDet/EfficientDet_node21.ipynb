{
  "cells": [
    {
      "cell_type": "code",
      "execution_count": null,
      "metadata": {
        "colab": {
          "base_uri": "https://localhost:8080/"
        },
        "id": "VJknc2w4EuTh",
        "outputId": "240ea625-f284-4bce-d859-57600964b05e"
      },
      "outputs": [
        {
          "output_type": "stream",
          "name": "stdout",
          "text": [
            "Mounted at /content/drive\n"
          ]
        }
      ],
      "source": [
        "from google.colab import drive\n",
        "drive.mount('/content/drive')"
      ]
    },
    {
      "cell_type": "code",
      "execution_count": null,
      "metadata": {
        "colab": {
          "base_uri": "https://localhost:8080/"
        },
        "id": "kcWsqN5rsyvP",
        "outputId": "08e27333-9fbe-4e06-c687-c7e03478646a"
      },
      "outputs": [
        {
          "name": "stdout",
          "output_type": "stream",
          "text": [
            "/content/drive/MyDrive\n"
          ]
        }
      ],
      "source": [
        "# %cd /content/drive/MyDrive"
      ]
    },
    {
      "cell_type": "code",
      "execution_count": null,
      "metadata": {
        "colab": {
          "base_uri": "https://localhost:8080/"
        },
        "id": "1Qx1xcUmJV7J",
        "outputId": "fb6f4874-1211-4e07-d70d-70a7eaac8377"
      },
      "outputs": [
        {
          "name": "stdout",
          "output_type": "stream",
          "text": [
            "Cloning into 'Yet-Another-EfficientDet-Pytorch'...\n",
            "remote: Enumerating objects: 765, done.\u001b[K\n",
            "remote: Total 765 (delta 0), reused 0 (delta 0), pack-reused 765\u001b[K\n",
            "Receiving objects: 100% (765/765), 8.84 MiB | 17.76 MiB/s, done.\n",
            "Resolving deltas: 100% (437/437), done.\n"
          ]
        }
      ],
      "source": [
        "# !git clone https://github.com/zylo117/Yet-Another-EfficientDet-Pytorch.git"
      ]
    },
    {
      "cell_type": "code",
      "execution_count": null,
      "metadata": {
        "colab": {
          "base_uri": "https://localhost:8080/"
        },
        "id": "F9NLCFgrwSn_",
        "outputId": "134ba6b3-e229-407c-900a-8002e1376210"
      },
      "outputs": [
        {
          "output_type": "stream",
          "name": "stdout",
          "text": [
            "/content/drive/MyDrive/Yet-Another-EfficientDet-Pytorch\n"
          ]
        }
      ],
      "source": [
        "%cd /content/drive/MyDrive/Yet-Another-EfficientDet-Pytorch"
      ]
    },
    {
      "cell_type": "code",
      "execution_count": null,
      "metadata": {
        "colab": {
          "base_uri": "https://localhost:8080/"
        },
        "id": "CA-r_9w-HfZz",
        "outputId": "69cebac4-b0b3-4d0d-f816-78a076565814"
      },
      "outputs": [
        {
          "output_type": "stream",
          "name": "stdout",
          "text": [
            "GPU: Tesla T4\n"
          ]
        }
      ],
      "source": [
        "import torch\n",
        "\n",
        "if torch.cuda.is_available():\n",
        "    device = torch.cuda.get_device_name(0)\n",
        "    print(f\"GPU: {device}\")\n",
        "else:\n",
        "    print(\"No GPU available\")\n"
      ]
    },
    {
      "cell_type": "code",
      "execution_count": null,
      "metadata": {
        "colab": {
          "base_uri": "https://localhost:8080/"
        },
        "id": "eITUZgQOwZug",
        "outputId": "df9fb8e9-a9df-45cf-aa9d-b4f60cccfd60"
      },
      "outputs": [
        {
          "output_type": "stream",
          "name": "stdout",
          "text": [
            "Looking in indexes: https://pypi.org/simple, https://us-python.pkg.dev/colab-wheels/public/simple/\n",
            "Requirement already satisfied: pycocotools in /usr/local/lib/python3.10/dist-packages (2.0.6)\n",
            "Requirement already satisfied: numpy in /usr/local/lib/python3.10/dist-packages (1.22.4)\n",
            "Requirement already satisfied: opencv-python in /usr/local/lib/python3.10/dist-packages (4.7.0.72)\n",
            "Requirement already satisfied: tqdm in /usr/local/lib/python3.10/dist-packages (4.65.0)\n",
            "Requirement already satisfied: tensorboard in /usr/local/lib/python3.10/dist-packages (2.12.2)\n",
            "Collecting tensorboardX\n",
            "  Downloading tensorboardX-2.6-py2.py3-none-any.whl (114 kB)\n",
            "\u001b[2K     \u001b[90m━━━━━━━━━━━━━━━━━━━━━━━━━━━━━━━━━━━━━━━\u001b[0m \u001b[32m114.5/114.5 kB\u001b[0m \u001b[31m2.9 MB/s\u001b[0m eta \u001b[36m0:00:00\u001b[0m\n",
            "\u001b[?25hRequirement already satisfied: pyyaml in /usr/local/lib/python3.10/dist-packages (6.0)\n",
            "Requirement already satisfied: webcolors in /usr/local/lib/python3.10/dist-packages (1.13)\n",
            "Requirement already satisfied: matplotlib>=2.1.0 in /usr/local/lib/python3.10/dist-packages (from pycocotools) (3.7.1)\n",
            "Requirement already satisfied: absl-py>=0.4 in /usr/local/lib/python3.10/dist-packages (from tensorboard) (1.4.0)\n",
            "Requirement already satisfied: grpcio>=1.48.2 in /usr/local/lib/python3.10/dist-packages (from tensorboard) (1.54.0)\n",
            "Requirement already satisfied: google-auth<3,>=1.6.3 in /usr/local/lib/python3.10/dist-packages (from tensorboard) (2.17.3)\n",
            "Requirement already satisfied: google-auth-oauthlib<1.1,>=0.5 in /usr/local/lib/python3.10/dist-packages (from tensorboard) (1.0.0)\n",
            "Requirement already satisfied: markdown>=2.6.8 in /usr/local/lib/python3.10/dist-packages (from tensorboard) (3.4.3)\n",
            "Requirement already satisfied: protobuf>=3.19.6 in /usr/local/lib/python3.10/dist-packages (from tensorboard) (3.20.3)\n",
            "Requirement already satisfied: requests<3,>=2.21.0 in /usr/local/lib/python3.10/dist-packages (from tensorboard) (2.27.1)\n",
            "Requirement already satisfied: setuptools>=41.0.0 in /usr/local/lib/python3.10/dist-packages (from tensorboard) (67.7.2)\n",
            "Requirement already satisfied: tensorboard-data-server<0.8.0,>=0.7.0 in /usr/local/lib/python3.10/dist-packages (from tensorboard) (0.7.0)\n",
            "Requirement already satisfied: tensorboard-plugin-wit>=1.6.0 in /usr/local/lib/python3.10/dist-packages (from tensorboard) (1.8.1)\n",
            "Requirement already satisfied: werkzeug>=1.0.1 in /usr/local/lib/python3.10/dist-packages (from tensorboard) (2.3.0)\n",
            "Requirement already satisfied: wheel>=0.26 in /usr/local/lib/python3.10/dist-packages (from tensorboard) (0.40.0)\n",
            "Requirement already satisfied: packaging in /usr/local/lib/python3.10/dist-packages (from tensorboardX) (23.1)\n",
            "Requirement already satisfied: cachetools<6.0,>=2.0.0 in /usr/local/lib/python3.10/dist-packages (from google-auth<3,>=1.6.3->tensorboard) (5.3.0)\n",
            "Requirement already satisfied: pyasn1-modules>=0.2.1 in /usr/local/lib/python3.10/dist-packages (from google-auth<3,>=1.6.3->tensorboard) (0.3.0)\n",
            "Requirement already satisfied: six>=1.9.0 in /usr/local/lib/python3.10/dist-packages (from google-auth<3,>=1.6.3->tensorboard) (1.16.0)\n",
            "Requirement already satisfied: rsa<5,>=3.1.4 in /usr/local/lib/python3.10/dist-packages (from google-auth<3,>=1.6.3->tensorboard) (4.9)\n",
            "Requirement already satisfied: requests-oauthlib>=0.7.0 in /usr/local/lib/python3.10/dist-packages (from google-auth-oauthlib<1.1,>=0.5->tensorboard) (1.3.1)\n",
            "Requirement already satisfied: contourpy>=1.0.1 in /usr/local/lib/python3.10/dist-packages (from matplotlib>=2.1.0->pycocotools) (1.0.7)\n",
            "Requirement already satisfied: cycler>=0.10 in /usr/local/lib/python3.10/dist-packages (from matplotlib>=2.1.0->pycocotools) (0.11.0)\n",
            "Requirement already satisfied: fonttools>=4.22.0 in /usr/local/lib/python3.10/dist-packages (from matplotlib>=2.1.0->pycocotools) (4.39.3)\n",
            "Requirement already satisfied: kiwisolver>=1.0.1 in /usr/local/lib/python3.10/dist-packages (from matplotlib>=2.1.0->pycocotools) (1.4.4)\n",
            "Requirement already satisfied: pillow>=6.2.0 in /usr/local/lib/python3.10/dist-packages (from matplotlib>=2.1.0->pycocotools) (8.4.0)\n",
            "Requirement already satisfied: pyparsing>=2.3.1 in /usr/local/lib/python3.10/dist-packages (from matplotlib>=2.1.0->pycocotools) (3.0.9)\n",
            "Requirement already satisfied: python-dateutil>=2.7 in /usr/local/lib/python3.10/dist-packages (from matplotlib>=2.1.0->pycocotools) (2.8.2)\n",
            "Requirement already satisfied: urllib3<1.27,>=1.21.1 in /usr/local/lib/python3.10/dist-packages (from requests<3,>=2.21.0->tensorboard) (1.26.15)\n",
            "Requirement already satisfied: certifi>=2017.4.17 in /usr/local/lib/python3.10/dist-packages (from requests<3,>=2.21.0->tensorboard) (2022.12.7)\n",
            "Requirement already satisfied: charset-normalizer~=2.0.0 in /usr/local/lib/python3.10/dist-packages (from requests<3,>=2.21.0->tensorboard) (2.0.12)\n",
            "Requirement already satisfied: idna<4,>=2.5 in /usr/local/lib/python3.10/dist-packages (from requests<3,>=2.21.0->tensorboard) (3.4)\n",
            "Requirement already satisfied: MarkupSafe>=2.1.1 in /usr/local/lib/python3.10/dist-packages (from werkzeug>=1.0.1->tensorboard) (2.1.2)\n",
            "Requirement already satisfied: pyasn1<0.6.0,>=0.4.6 in /usr/local/lib/python3.10/dist-packages (from pyasn1-modules>=0.2.1->google-auth<3,>=1.6.3->tensorboard) (0.5.0)\n",
            "Requirement already satisfied: oauthlib>=3.0.0 in /usr/local/lib/python3.10/dist-packages (from requests-oauthlib>=0.7.0->google-auth-oauthlib<1.1,>=0.5->tensorboard) (3.2.2)\n",
            "Installing collected packages: tensorboardX\n",
            "Successfully installed tensorboardX-2.6\n",
            "Looking in indexes: https://pypi.org/simple, https://us-python.pkg.dev/colab-wheels/public/simple/\n",
            "\u001b[31mERROR: Could not find a version that satisfies the requirement torch==1.4.0 (from versions: 1.11.0, 1.12.0, 1.12.1, 1.13.0, 1.13.1, 2.0.0, 2.0.1)\u001b[0m\u001b[31m\n",
            "\u001b[0m\u001b[31mERROR: No matching distribution found for torch==1.4.0\u001b[0m\u001b[31m\n",
            "\u001b[0mLooking in indexes: https://pypi.org/simple, https://us-python.pkg.dev/colab-wheels/public/simple/\n",
            "\u001b[31mERROR: Could not find a version that satisfies the requirement torchvision==0.5.0 (from versions: 0.1.6, 0.1.7, 0.1.8, 0.1.9, 0.2.0, 0.2.1, 0.2.2, 0.2.2.post2, 0.2.2.post3, 0.12.0, 0.13.0, 0.13.1, 0.14.0, 0.14.1, 0.15.0, 0.15.1, 0.15.2)\u001b[0m\u001b[31m\n",
            "\u001b[0m\u001b[31mERROR: No matching distribution found for torchvision==0.5.0\u001b[0m\u001b[31m\n",
            "\u001b[0m"
          ]
        }
      ],
      "source": [
        "# install requirements\n",
        "!pip install pycocotools numpy opencv-python tqdm tensorboard tensorboardX pyyaml webcolors\n",
        "!pip install torch==1.4.0\n",
        "!pip install torchvision==0.5.0\n",
        " \n",
        "# run the simple inference script\n",
        "# !python efficientdet_test.py"
      ]
    },
    {
      "cell_type": "code",
      "execution_count": null,
      "metadata": {
        "colab": {
          "base_uri": "https://localhost:8080/"
        },
        "id": "MzuucdLBvYkV",
        "outputId": "9a4e4a7d-f16d-42dd-8b8e-dab221c2c33e"
      },
      "outputs": [
        {
          "output_type": "stream",
          "name": "stdout",
          "text": [
            "loading annotations into memory...\n",
            "Done (t=0.59s)\n",
            "creating index...\n",
            "index created!\n",
            "/usr/local/lib/python3.10/dist-packages/torch/utils/data/dataloader.py:560: UserWarning: This DataLoader will create 12 worker processes in total. Our suggested max number of worker in current system is 2, which is smaller than what this DataLoader is going to create. Please be aware that excessive worker creation might get DataLoader running slow or even freeze, lower the worker number to avoid potential slowness/freeze if necessary.\n",
            "  warnings.warn(_create_warning_msg(\n",
            "loading annotations into memory...\n",
            "Done (t=0.19s)\n",
            "creating index...\n",
            "index created!\n",
            "using weights logs/efficientdet-d2_145_139553.pth\n",
            "[Info] loaded weights: efficientdet-d2_145_139553.pth, resuming checkpoint from step: 139553\n",
            "[Info] freezed backbone\n",
            "Step: 139999. Epoch: 145/180. Iteration: 655/961. Cls loss: 0.36829. Reg loss: 0.00000. Total loss: 0.36829:  68% 654/961 [02:49<01:15,  4.05it/s]checkpoint...\n",
            "Step: 140305. Epoch: 145/180. Iteration: 961/961. Cls loss: 0.01558. Reg loss: 0.00000. Total loss: 0.01558: 100% 961/961 [04:07<00:00,  3.89it/s]\n",
            "Val. Epoch: 145/180. Classification loss: 0.40371. Regression loss: 1.38593. Total loss: 1.78964\n",
            "Step: 140499. Epoch: 146/180. Iteration: 194/961. Cls loss: 0.07372. Reg loss: 0.00000. Total loss: 0.07372:  20% 193/961 [00:49<02:29,  5.15it/s]checkpoint...\n",
            "Step: 140999. Epoch: 146/180. Iteration: 694/961. Cls loss: 0.55624. Reg loss: 1.84040. Total loss: 2.39663:  72% 693/961 [02:48<00:54,  4.88it/s]checkpoint...\n",
            "Step: 141266. Epoch: 146/180. Iteration: 961/961. Cls loss: 0.18791. Reg loss: 1.10384. Total loss: 1.29175: 100% 961/961 [03:50<00:00,  4.18it/s]\n",
            "Val. Epoch: 146/180. Classification loss: 0.38314. Regression loss: 1.31797. Total loss: 1.70110\n",
            "Step: 141499. Epoch: 147/180. Iteration: 233/961. Cls loss: 0.34783. Reg loss: 1.11400. Total loss: 1.46183:  24% 232/961 [00:58<02:19,  5.23it/s]checkpoint...\n",
            "Step: 141999. Epoch: 147/180. Iteration: 733/961. Cls loss: 0.32211. Reg loss: 0.95368. Total loss: 1.27578:  76% 732/961 [02:56<01:08,  3.32it/s]checkpoint...\n",
            "Step: 142227. Epoch: 147/180. Iteration: 961/961. Cls loss: 0.32435. Reg loss: 0.87203. Total loss: 1.19638: 100% 961/961 [03:47<00:00,  4.23it/s]\n",
            "Val. Epoch: 147/180. Classification loss: 0.41356. Regression loss: 1.37086. Total loss: 1.78442\n",
            "Step: 142499. Epoch: 148/180. Iteration: 272/961. Cls loss: 0.07226. Reg loss: 0.00000. Total loss: 0.07226:  28% 271/961 [01:09<03:40,  3.13it/s]checkpoint...\n",
            "Step: 142999. Epoch: 148/180. Iteration: 772/961. Cls loss: 0.60207. Reg loss: 1.46804. Total loss: 2.07012:  80% 771/961 [03:05<00:35,  5.32it/s]checkpoint...\n",
            "Step: 143188. Epoch: 148/180. Iteration: 961/961. Cls loss: 0.11283. Reg loss: 0.00000. Total loss: 0.11283: 100% 961/961 [03:48<00:00,  4.20it/s]\n",
            "Val. Epoch: 148/180. Classification loss: 0.40666. Regression loss: 1.38686. Total loss: 1.79352\n",
            "Step: 143499. Epoch: 149/180. Iteration: 311/961. Cls loss: 0.15274. Reg loss: 0.50895. Total loss: 0.66169:  32% 310/961 [01:17<03:00,  3.61it/s]checkpoint...\n",
            "Step: 143999. Epoch: 149/180. Iteration: 811/961. Cls loss: 0.55444. Reg loss: 3.19145. Total loss: 3.74589:  84% 810/961 [03:16<00:30,  4.98it/s]checkpoint...\n",
            "Step: 144149. Epoch: 149/180. Iteration: 961/961. Cls loss: 0.14808. Reg loss: 0.30087. Total loss: 0.44895: 100% 961/961 [03:49<00:00,  4.18it/s]\n",
            "Epoch 00005: reducing learning rate of group 0 to 1.0000e-04.\n",
            "Val. Epoch: 149/180. Classification loss: 0.37955. Regression loss: 1.32017. Total loss: 1.69972\n",
            "Step: 144499. Epoch: 150/180. Iteration: 350/961. Cls loss: 0.61308. Reg loss: 1.75806. Total loss: 2.37114:  36% 349/961 [01:26<02:07,  4.80it/s]checkpoint...\n",
            "Step: 144999. Epoch: 150/180. Iteration: 850/961. Cls loss: 0.34707. Reg loss: 1.36398. Total loss: 1.71105:  88% 849/961 [03:28<00:22,  5.06it/s]checkpoint...\n",
            "Step: 145110. Epoch: 150/180. Iteration: 961/961. Cls loss: 0.20438. Reg loss: 0.76564. Total loss: 0.97001: 100% 961/961 [03:52<00:00,  4.13it/s]\n",
            "Val. Epoch: 150/180. Classification loss: 0.40152. Regression loss: 1.32475. Total loss: 1.72627\n",
            "Step: 145499. Epoch: 151/180. Iteration: 389/961. Cls loss: 0.23489. Reg loss: 0.92876. Total loss: 1.16365:  40% 388/961 [01:37<01:58,  4.82it/s]checkpoint...\n",
            "Step: 145649. Epoch: 151/180. Iteration: 539/961. Cls loss: 0.57424. Reg loss: 1.44000. Total loss: 2.01424:  56% 539/961 [02:16<01:46,  3.96it/s]\n"
          ]
        }
      ],
      "source": [
        "!python train.py -c 2 -p coco --batch_size 2 --lr 1e-3 --num_epochs 180 \\\n",
        " --load_weights last \\\n",
        " --head_only True\n",
        " "
      ]
    },
    {
      "cell_type": "code",
      "execution_count": null,
      "metadata": {
        "colab": {
          "base_uri": "https://localhost:8080/"
        },
        "id": "z4de6ZKkHW80",
        "outputId": "2175228a-ea19-4d94-e237-fe92107a076c"
      },
      "outputs": [
        {
          "output_type": "stream",
          "name": "stdout",
          "text": [
            "running coco-style evaluation on project coco, weights /content/drive/MyDrive/Yet-Another-EfficientDet-Pytorch/logs/efficientdet-d2_1_1500.pth...\n",
            "loading annotations into memory...\n",
            "Done (t=0.00s)\n",
            "creating index...\n",
            "index created!\n",
            " 57% 120/211 [00:19<00:12,  7.14it/s]"
          ]
        }
      ],
      "source": [
        "!python coco_eval.py -p coco -c 2 \\\n",
        " -w /content/drive/MyDrive/Yet-Another-EfficientDet-Pytorch/logs/efficientdet-d2_1_1500.pth"
      ]
    },
    {
      "cell_type": "code",
      "execution_count": null,
      "metadata": {
        "colab": {
          "base_uri": "https://localhost:8080/"
        },
        "id": "v5BaaBfI03zR",
        "outputId": "5ce2eaee-efcc-4b1a-ad35-7d5d57930054"
      },
      "outputs": [
        {
          "name": "stdout",
          "output_type": "stream",
          "text": [
            "loading annotations into memory...\n",
            "Done (t=0.40s)\n",
            "creating index...\n",
            "index created!\n",
            "/usr/local/lib/python3.10/dist-packages/torch/utils/data/dataloader.py:561: UserWarning: This DataLoader will create 12 worker processes in total. Our suggested max number of worker in current system is 2, which is smaller than what this DataLoader is going to create. Please be aware that excessive worker creation might get DataLoader running slow or even freeze, lower the worker number to avoid potential slowness/freeze if necessary.\n",
            "  warnings.warn(_create_warning_msg(\n",
            "loading annotations into memory...\n",
            "Done (t=0.00s)\n",
            "creating index...\n",
            "index created!\n",
            "[Info] initializing weights...\n",
            "Step: 499. Epoch: 0/500. Iteration: 500/961. Cls loss: 0.15448. Reg loss: 0.00000. Total loss: 0.15448:  52% 499/961 [04:19<03:31,  2.18it/s]checkpoint...\n",
            "Step: 960. Epoch: 0/500. Iteration: 961/961. Cls loss: 0.61056. Reg loss: 2.47949. Total loss: 3.09004: 100% 961/961 [08:20<00:00,  1.92it/s]\n",
            "Val. Epoch: 0/500. Classification loss: 0.88036. Regression loss: 2.06186. Total loss: 2.94222\n",
            "Step: 999. Epoch: 1/500. Iteration: 39/961. Cls loss: 0.62472. Reg loss: 1.57484. Total loss: 2.19956:   4% 38/961 [00:25<09:19,  1.65it/s]checkpoint...\n",
            "Step: 1499. Epoch: 1/500. Iteration: 539/961. Cls loss: 0.09646. Reg loss: 0.00000. Total loss: 0.09646:  56% 538/961 [04:58<04:18,  1.64it/s]checkpoint...\n",
            "Step: 1921. Epoch: 1/500. Iteration: 961/961. Cls loss: 0.59650. Reg loss: 2.64363. Total loss: 3.24013: 100% 961/961 [08:49<00:00,  1.82it/s]\n",
            "Val. Epoch: 1/500. Classification loss: 0.61955. Regression loss: 1.93529. Total loss: 2.55484\n",
            "Step: 1999. Epoch: 2/500. Iteration: 78/961. Cls loss: 0.59475. Reg loss: 2.15594. Total loss: 2.75070:   8% 77/961 [00:46<07:57,  1.85it/s]checkpoint...\n",
            "Step: 2499. Epoch: 2/500. Iteration: 578/961. Cls loss: 0.52033. Reg loss: 1.69118. Total loss: 2.21151:  60% 577/961 [05:19<03:14,  1.98it/s]checkpoint...\n",
            "Step: 2882. Epoch: 2/500. Iteration: 961/961. Cls loss: 1.05080. Reg loss: 4.31283. Total loss: 5.36363: 100% 961/961 [08:46<00:00,  1.83it/s]\n",
            "Val. Epoch: 2/500. Classification loss: 0.54552. Regression loss: 1.86332. Total loss: 2.40885\n",
            "Step: 2999. Epoch: 3/500. Iteration: 117/961. Cls loss: 0.07744. Reg loss: 0.00000. Total loss: 0.07744:  12% 116/961 [01:09<07:07,  1.98it/s]checkpoint...\n",
            "Step: 3499. Epoch: 3/500. Iteration: 617/961. Cls loss: 0.06934. Reg loss: 0.00000. Total loss: 0.06934:  64% 616/961 [05:40<02:53,  1.99it/s]checkpoint...\n",
            "Step: 3843. Epoch: 3/500. Iteration: 961/961. Cls loss: 0.55636. Reg loss: 2.27346. Total loss: 2.82982: 100% 961/961 [08:45<00:00,  1.83it/s]\n",
            "Val. Epoch: 3/500. Classification loss: 0.50890. Regression loss: 1.84129. Total loss: 2.35019\n",
            "Step: 3999. Epoch: 4/500. Iteration: 156/961. Cls loss: 0.99427. Reg loss: 5.23562. Total loss: 6.22989:  16% 155/961 [01:28<06:50,  1.96it/s]checkpoint...\n",
            "Step: 4499. Epoch: 4/500. Iteration: 656/961. Cls loss: 0.62530. Reg loss: 2.13236. Total loss: 2.75766:  68% 655/961 [06:00<02:57,  1.73it/s]checkpoint...\n",
            "Step: 4804. Epoch: 4/500. Iteration: 961/961. Cls loss: 0.52891. Reg loss: 2.08319. Total loss: 2.61210: 100% 961/961 [08:45<00:00,  1.83it/s]\n",
            "Val. Epoch: 4/500. Classification loss: 1.46882. Regression loss: 2.94094. Total loss: 4.40976\n",
            "Step: 4999. Epoch: 5/500. Iteration: 195/961. Cls loss: 0.63758. Reg loss: 2.41582. Total loss: 3.05340:  20% 194/961 [01:50<08:15,  1.55it/s]checkpoint...\n",
            "Step: 5292. Epoch: 5/500. Iteration: 488/961. Cls loss: 0.57433. Reg loss: 1.87794. Total loss: 2.45227:  51% 488/961 [04:30<04:22,  1.80it/s]\n"
          ]
        }
      ],
      "source": [
        "!python train.py -c 2 -p coco --batch_size 2 --lr 1e-3 --debug True"
      ]
    }
  ],
  "metadata": {
    "accelerator": "GPU",
    "colab": {
      "provenance": []
    },
    "gpuClass": "standard",
    "kernelspec": {
      "display_name": "Python 3",
      "name": "python3"
    },
    "language_info": {
      "name": "python"
    }
  },
  "nbformat": 4,
  "nbformat_minor": 0
}